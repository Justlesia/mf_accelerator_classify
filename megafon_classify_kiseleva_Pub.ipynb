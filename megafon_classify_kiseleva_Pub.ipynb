{
  "nbformat": 4,
  "nbformat_minor": 0,
  "metadata": {
    "colab": {
      "name": "megafon_classify_kiseleva-Pub.ipynb",
      "provenance": [],
      "collapsed_sections": [],
      "toc_visible": true
    },
    "kernelspec": {
      "display_name": "Python 3",
      "language": "python",
      "name": "python3"
    },
    "language_info": {
      "codemirror_mode": {
        "name": "ipython",
        "version": 3
      },
      "file_extension": ".py",
      "mimetype": "text/x-python",
      "name": "python",
      "nbconvert_exporter": "python",
      "pygments_lexer": "ipython3",
      "version": "3.7.6"
    },
    "toc": {
      "base_numbering": 1,
      "nav_menu": {},
      "number_sections": true,
      "sideBar": true,
      "skip_h1_title": false,
      "title_cell": "Table of Contents",
      "title_sidebar": "Contents",
      "toc_cell": false,
      "toc_position": {},
      "toc_section_display": true,
      "toc_window_display": false
    },
    "accelerator": "TPU"
  },
  "cells": [
    {
      "cell_type": "markdown",
      "metadata": {
        "id": "nDg2bjRplgMl"
      },
      "source": [
        "<div class=\"alert alert-block alert-info\">\n",
        "<b> Всем привет! \n",
        "\n",
        "\n",
        "Я закончила соревнование 3 месте. \n",
        "\n",
        "К сожалению, 'те самые' настройки модели я потеряла :( \n",
        "\n",
        "Однако логика моего исследования, если кому интересно, представлена ниже.\n",
        "    \n",
        "Спасибо!\n",
        "    \n",
        "</div>"
      ]
    },
    {
      "cell_type": "markdown",
      "metadata": {
        "id": "IPUMg4-wlgMw"
      },
      "source": [
        "<br/><font size=\"6\"><b>MegaFon Accelerator. Классификация. </b></font>.<br/>"
      ]
    },
    {
      "cell_type": "markdown",
      "metadata": {
        "id": "OlZGrqzYlgMx"
      },
      "source": [
        "# Описание проекта\n",
        "\n",
        "## Постановка задачи\n",
        "\n",
        "Необходимо построить модель, которая предсказывает к какому из трех сегментов (0,1,2) относится каждый абонент.\n",
        "\n",
        "## Описание данных\n",
        "\n",
        "Обучающая выборка contest_train.csv состоит из следующих столбцов:\n",
        "\n",
        "* ID - идентификатор абонента.\n",
        "* TARGET - соответствующий абоненту сегмент.\n",
        "* FEATURE_0…FEATURE_259 — характеристики абонента.\n",
        "\n",
        "* Тестовая выборка contest_test.csv состоит из столбца ID и следующими за ним столбцами FEATURE_0 … FEATURE_259\n",
        "\n",
        "*Точность предсказания оценивается по метрике macro-f1_score.*\n",
        "\n",
        "\n",
        "*Распределение Public/Private - 50%/50%*"
      ]
    },
    {
      "cell_type": "markdown",
      "metadata": {
        "id": "YeF--0GUlgMy"
      },
      "source": [
        "<a name=\"0.\"></a><br/>\n",
        "<font size=\"4\"><b>0. Подгрузка библиотек и самописные функции</b></font>.<br/>"
      ]
    },
    {
      "cell_type": "code",
      "metadata": {
        "id": "WdBIZa1VlgMy"
      },
      "source": [
        "import numpy as np\n",
        "import pandas as pd\n",
        "\n",
        "import joblib\n",
        "import time\n",
        "import warnings\n",
        "\n",
        "from plotly.subplots import make_subplots\n",
        "\n",
        "from sklearn.metrics  import f1_score\n",
        "from sklearn.metrics  import precision_score\n",
        "from sklearn.metrics  import recall_score\n",
        "from sklearn.metrics import accuracy_score\n",
        "\n",
        "from sklearn.model_selection import GridSearchCV\n",
        "from sklearn.model_selection import train_test_split\n",
        "\n",
        "from sklearn.utils import shuffle\n",
        "from termcolor import colored\n",
        "import matplotlib.pyplot as plt\n",
        "\n",
        "import plotly.express as px\n",
        "import plotly.figure_factory as ff\n",
        "import plotly.graph_objects as go\n",
        "import seaborn as sns\n",
        "from scipy import stats as st\n",
        "from sklearn.ensemble import AdaBoostClassifier\n",
        "from sklearn.ensemble import RandomForestClassifier\n",
        "from sklearn.model_selection import StratifiedKFold\n",
        "from sklearn.impute import KNNImputer\n",
        "\n",
        "from sklearn.metrics import classification_report\n",
        "\n",
        "from lightgbm import LGBMClassifier\n",
        "from sklearn.ensemble import GradientBoostingClassifier\n",
        "from sklearn.tree import DecisionTreeClassifier\n",
        "from sklearn.linear_model import LogisticRegression\n",
        "\n",
        "from sklearn.dummy import DummyClassifier"
      ],
      "execution_count": 1,
      "outputs": []
    },
    {
      "cell_type": "code",
      "metadata": {
        "colab": {
          "base_uri": "https://localhost:8080/"
        },
        "id": "QVCwd4TkzW6m",
        "outputId": "55759179-e076-4645-dedd-c54aed5a9469"
      },
      "source": [
        "!pip install catboost"
      ],
      "execution_count": 2,
      "outputs": [
        {
          "output_type": "stream",
          "text": [
            "Collecting catboost\n",
            "\u001b[?25l  Downloading https://files.pythonhosted.org/packages/1e/21/d1718eb4c93d6bacdd540b3792187f32ccb1ad9c51b9c4f10875d63ec176/catboost-0.25-cp37-none-manylinux1_x86_64.whl (67.3MB)\n",
            "\u001b[K     |████████████████████████████████| 67.3MB 61kB/s \n",
            "\u001b[?25hRequirement already satisfied: scipy in /usr/local/lib/python3.7/dist-packages (from catboost) (1.4.1)\n",
            "Requirement already satisfied: pandas>=0.24.0 in /usr/local/lib/python3.7/dist-packages (from catboost) (1.1.5)\n",
            "Requirement already satisfied: matplotlib in /usr/local/lib/python3.7/dist-packages (from catboost) (3.2.2)\n",
            "Requirement already satisfied: plotly in /usr/local/lib/python3.7/dist-packages (from catboost) (4.4.1)\n",
            "Requirement already satisfied: six in /usr/local/lib/python3.7/dist-packages (from catboost) (1.15.0)\n",
            "Requirement already satisfied: graphviz in /usr/local/lib/python3.7/dist-packages (from catboost) (0.10.1)\n",
            "Requirement already satisfied: numpy>=1.16.0 in /usr/local/lib/python3.7/dist-packages (from catboost) (1.19.5)\n",
            "Requirement already satisfied: python-dateutil>=2.7.3 in /usr/local/lib/python3.7/dist-packages (from pandas>=0.24.0->catboost) (2.8.1)\n",
            "Requirement already satisfied: pytz>=2017.2 in /usr/local/lib/python3.7/dist-packages (from pandas>=0.24.0->catboost) (2018.9)\n",
            "Requirement already satisfied: cycler>=0.10 in /usr/local/lib/python3.7/dist-packages (from matplotlib->catboost) (0.10.0)\n",
            "Requirement already satisfied: kiwisolver>=1.0.1 in /usr/local/lib/python3.7/dist-packages (from matplotlib->catboost) (1.3.1)\n",
            "Requirement already satisfied: pyparsing!=2.0.4,!=2.1.2,!=2.1.6,>=2.0.1 in /usr/local/lib/python3.7/dist-packages (from matplotlib->catboost) (2.4.7)\n",
            "Requirement already satisfied: retrying>=1.3.3 in /usr/local/lib/python3.7/dist-packages (from plotly->catboost) (1.3.3)\n",
            "Installing collected packages: catboost\n",
            "Successfully installed catboost-0.25\n"
          ],
          "name": "stdout"
        }
      ]
    },
    {
      "cell_type": "code",
      "metadata": {
        "id": "3Ns2_Zkezi0J"
      },
      "source": [
        "from catboost import CatBoostClassifier"
      ],
      "execution_count": 3,
      "outputs": []
    },
    {
      "cell_type": "code",
      "metadata": {
        "id": "OCIhpwgUlgM0"
      },
      "source": [
        "#Определяем болд\n",
        "def bold(): \n",
        "    return \"\\033[1m\"\n",
        "\n",
        "def bold_end(): \n",
        "    return \"\\033[0m\"\n",
        "\n",
        "#Ставим формат для нумериков\n",
        "pd.options.display.float_format = '{: >10.2f}'.format\n",
        "\n",
        "#Убираем ворнинги\n",
        "warnings.simplefilter(action='ignore', category=FutureWarning)"
      ],
      "execution_count": 4,
      "outputs": []
    },
    {
      "cell_type": "code",
      "metadata": {
        "id": "WzL2cnFClgM0"
      },
      "source": [
        "#**Функция print_basic_info, для вывода информации о массиве, и его переменных.**\n",
        "\n",
        "#* base - название базы данных\n",
        "#* info - 1: вывод информации о массиве, другое: не вывод\n",
        "#* describe - 1: вывод описания переменных массива, другое: не вывод        \n",
        "#* duplicat - 1: вывод количества полных дублей\n",
        "#* head - n: вывод примера базы (вывод n - строк), n < 1: не вывод\n",
        "\n",
        "def print_basic_info(base, info, describe, duplicat, head):\n",
        "    if info == 1:\n",
        "        print(\"\\n\", bold(), colored('info','green'), bold_end(), \"\\n\")\n",
        "        print( base.info())  \n",
        "    if head >= 1:\n",
        "        print(\"\\n\", bold(),colored('head','green'),bold_end())\n",
        "        display(base.head(head))\n",
        "    if describe == 1:\n",
        "        print(\"\\n\", bold(),colored('describe','green'),bold_end(),\"\\n\")\n",
        "        for i in base.columns:\n",
        "            print(\"\\n\", bold(), colored(i,'blue'),bold_end(),\"\\n\", base[i].describe())\n",
        "    if duplicat == 1:\n",
        "        print(\"\\n\", bold(),colored('duplicated','green'),bold_end(),\"\\n\")\n",
        "        print(base[base.duplicated() == True][base.columns[0]].count())"
      ],
      "execution_count": 5,
      "outputs": []
    },
    {
      "cell_type": "code",
      "metadata": {
        "id": "Kzt1nfeplgM1"
      },
      "source": [
        "#__Функция ft_namecount__, для вывода названия переменной, частотной нормированной таблицы и описания переменной.\n",
        "\n",
        "#5 входных параметров:\n",
        "\n",
        "#* *base* - название базы данных\n",
        "#* *index* - название переменной в базе\n",
        "#* *table* - 1: вывод частотной нормированной таблицы, 0: не вывод\n",
        "#* *sort* - 1: сортировка таблицы по лейблам переменной, 0: не сортировка\n",
        "#* *describe* - 1: вывод описания переменной, 0: не вывод\n",
        "\n",
        "def ft_name_count (base, name , table, sort, describe):\n",
        "    print(bold(), colored(name,'blue') , bold_end(), \"\\n\")\n",
        "    if table != 0:\n",
        "        s = (base[name].value_counts(normalize=True))\n",
        "        if sort != 0:\n",
        "            s.sort_index(inplace=True)\n",
        "        print(s)\n",
        "    if describe != 0:\n",
        "        print(base[name].describe())"
      ],
      "execution_count": 6,
      "outputs": []
    },
    {
      "cell_type": "markdown",
      "metadata": {
        "id": "1_Vtd7iqlgM1"
      },
      "source": [
        "<a name=\"1.\"></a><br/>\n",
        "<font size=\"6\"><b>1. Подготовка данных</b></font>.<br/>"
      ]
    },
    {
      "cell_type": "markdown",
      "metadata": {
        "id": "oLX2BhmnlgM2"
      },
      "source": [
        "**Открываем**"
      ]
    },
    {
      "cell_type": "code",
      "metadata": {
        "colab": {
          "base_uri": "https://localhost:8080/"
        },
        "id": "1pOXAJZglmfg",
        "outputId": "f16bffd1-996f-4851-d3d9-97630c228b3d"
      },
      "source": [
        "from google.colab import drive\n",
        "drive.mount('/content/drive/')"
      ],
      "execution_count": 7,
      "outputs": [
        {
          "output_type": "stream",
          "text": [
            "Mounted at /content/drive/\n"
          ],
          "name": "stdout"
        }
      ]
    },
    {
      "cell_type": "code",
      "metadata": {
        "id": "tHBtoAt3lgM2"
      },
      "source": [
        "#Работаю локально, онлайн путь другой\n",
        "\n",
        "contest_train = pd.read_csv('/content/drive/MyDrive/Colab Notebooks/datasets/contest_train.csv', sep=',',decimal='.' , index_col= 'ID')\n",
        "contest_test = pd.read_csv('/content/drive/MyDrive/Colab Notebooks/datasets/contest_test.csv', sep=',',decimal='.', index_col = 'ID')\n"
      ],
      "execution_count": 8,
      "outputs": []
    },
    {
      "cell_type": "code",
      "metadata": {
        "colab": {
          "base_uri": "https://localhost:8080/",
          "height": 477
        },
        "id": "dHhmBmmSlgM3",
        "outputId": "c8508ae8-a71e-445e-d7c1-35bda11f63ad"
      },
      "source": [
        "print_basic_info(contest_train,1,0,1,3)"
      ],
      "execution_count": 9,
      "outputs": [
        {
          "output_type": "stream",
          "text": [
            "\n",
            " \u001b[1m \u001b[32minfo\u001b[0m \u001b[0m \n",
            "\n",
            "<class 'pandas.core.frame.DataFrame'>\n",
            "Index: 24521 entries, 0d1c880d23ff018 to 5044ce165577a9f\n",
            "Columns: 261 entries, TARGET to FEATURE_259\n",
            "dtypes: float64(260), int64(1)\n",
            "memory usage: 49.0+ MB\n",
            "None\n",
            "\n",
            " \u001b[1m \u001b[32mhead\u001b[0m \u001b[0m\n"
          ],
          "name": "stdout"
        },
        {
          "output_type": "display_data",
          "data": {
            "text/html": [
              "<div>\n",
              "<style scoped>\n",
              "    .dataframe tbody tr th:only-of-type {\n",
              "        vertical-align: middle;\n",
              "    }\n",
              "\n",
              "    .dataframe tbody tr th {\n",
              "        vertical-align: top;\n",
              "    }\n",
              "\n",
              "    .dataframe thead th {\n",
              "        text-align: right;\n",
              "    }\n",
              "</style>\n",
              "<table border=\"1\" class=\"dataframe\">\n",
              "  <thead>\n",
              "    <tr style=\"text-align: right;\">\n",
              "      <th></th>\n",
              "      <th>TARGET</th>\n",
              "      <th>FEATURE_0</th>\n",
              "      <th>FEATURE_1</th>\n",
              "      <th>FEATURE_2</th>\n",
              "      <th>FEATURE_3</th>\n",
              "      <th>FEATURE_4</th>\n",
              "      <th>FEATURE_5</th>\n",
              "      <th>FEATURE_6</th>\n",
              "      <th>FEATURE_7</th>\n",
              "      <th>FEATURE_8</th>\n",
              "      <th>FEATURE_9</th>\n",
              "      <th>FEATURE_10</th>\n",
              "      <th>FEATURE_11</th>\n",
              "      <th>FEATURE_12</th>\n",
              "      <th>FEATURE_13</th>\n",
              "      <th>FEATURE_14</th>\n",
              "      <th>FEATURE_15</th>\n",
              "      <th>FEATURE_16</th>\n",
              "      <th>FEATURE_17</th>\n",
              "      <th>FEATURE_18</th>\n",
              "      <th>FEATURE_19</th>\n",
              "      <th>FEATURE_20</th>\n",
              "      <th>FEATURE_21</th>\n",
              "      <th>FEATURE_22</th>\n",
              "      <th>FEATURE_23</th>\n",
              "      <th>FEATURE_24</th>\n",
              "      <th>FEATURE_25</th>\n",
              "      <th>FEATURE_26</th>\n",
              "      <th>FEATURE_27</th>\n",
              "      <th>FEATURE_28</th>\n",
              "      <th>FEATURE_29</th>\n",
              "      <th>FEATURE_30</th>\n",
              "      <th>FEATURE_31</th>\n",
              "      <th>FEATURE_32</th>\n",
              "      <th>FEATURE_33</th>\n",
              "      <th>FEATURE_34</th>\n",
              "      <th>FEATURE_35</th>\n",
              "      <th>FEATURE_36</th>\n",
              "      <th>FEATURE_37</th>\n",
              "      <th>FEATURE_38</th>\n",
              "      <th>...</th>\n",
              "      <th>FEATURE_220</th>\n",
              "      <th>FEATURE_221</th>\n",
              "      <th>FEATURE_222</th>\n",
              "      <th>FEATURE_223</th>\n",
              "      <th>FEATURE_224</th>\n",
              "      <th>FEATURE_225</th>\n",
              "      <th>FEATURE_226</th>\n",
              "      <th>FEATURE_227</th>\n",
              "      <th>FEATURE_228</th>\n",
              "      <th>FEATURE_229</th>\n",
              "      <th>FEATURE_230</th>\n",
              "      <th>FEATURE_231</th>\n",
              "      <th>FEATURE_232</th>\n",
              "      <th>FEATURE_233</th>\n",
              "      <th>FEATURE_234</th>\n",
              "      <th>FEATURE_235</th>\n",
              "      <th>FEATURE_236</th>\n",
              "      <th>FEATURE_237</th>\n",
              "      <th>FEATURE_238</th>\n",
              "      <th>FEATURE_239</th>\n",
              "      <th>FEATURE_240</th>\n",
              "      <th>FEATURE_241</th>\n",
              "      <th>FEATURE_242</th>\n",
              "      <th>FEATURE_243</th>\n",
              "      <th>FEATURE_244</th>\n",
              "      <th>FEATURE_245</th>\n",
              "      <th>FEATURE_246</th>\n",
              "      <th>FEATURE_247</th>\n",
              "      <th>FEATURE_248</th>\n",
              "      <th>FEATURE_249</th>\n",
              "      <th>FEATURE_250</th>\n",
              "      <th>FEATURE_251</th>\n",
              "      <th>FEATURE_252</th>\n",
              "      <th>FEATURE_253</th>\n",
              "      <th>FEATURE_254</th>\n",
              "      <th>FEATURE_255</th>\n",
              "      <th>FEATURE_256</th>\n",
              "      <th>FEATURE_257</th>\n",
              "      <th>FEATURE_258</th>\n",
              "      <th>FEATURE_259</th>\n",
              "    </tr>\n",
              "    <tr>\n",
              "      <th>ID</th>\n",
              "      <th></th>\n",
              "      <th></th>\n",
              "      <th></th>\n",
              "      <th></th>\n",
              "      <th></th>\n",
              "      <th></th>\n",
              "      <th></th>\n",
              "      <th></th>\n",
              "      <th></th>\n",
              "      <th></th>\n",
              "      <th></th>\n",
              "      <th></th>\n",
              "      <th></th>\n",
              "      <th></th>\n",
              "      <th></th>\n",
              "      <th></th>\n",
              "      <th></th>\n",
              "      <th></th>\n",
              "      <th></th>\n",
              "      <th></th>\n",
              "      <th></th>\n",
              "      <th></th>\n",
              "      <th></th>\n",
              "      <th></th>\n",
              "      <th></th>\n",
              "      <th></th>\n",
              "      <th></th>\n",
              "      <th></th>\n",
              "      <th></th>\n",
              "      <th></th>\n",
              "      <th></th>\n",
              "      <th></th>\n",
              "      <th></th>\n",
              "      <th></th>\n",
              "      <th></th>\n",
              "      <th></th>\n",
              "      <th></th>\n",
              "      <th></th>\n",
              "      <th></th>\n",
              "      <th></th>\n",
              "      <th></th>\n",
              "      <th></th>\n",
              "      <th></th>\n",
              "      <th></th>\n",
              "      <th></th>\n",
              "      <th></th>\n",
              "      <th></th>\n",
              "      <th></th>\n",
              "      <th></th>\n",
              "      <th></th>\n",
              "      <th></th>\n",
              "      <th></th>\n",
              "      <th></th>\n",
              "      <th></th>\n",
              "      <th></th>\n",
              "      <th></th>\n",
              "      <th></th>\n",
              "      <th></th>\n",
              "      <th></th>\n",
              "      <th></th>\n",
              "      <th></th>\n",
              "      <th></th>\n",
              "      <th></th>\n",
              "      <th></th>\n",
              "      <th></th>\n",
              "      <th></th>\n",
              "      <th></th>\n",
              "      <th></th>\n",
              "      <th></th>\n",
              "      <th></th>\n",
              "      <th></th>\n",
              "      <th></th>\n",
              "      <th></th>\n",
              "      <th></th>\n",
              "      <th></th>\n",
              "      <th></th>\n",
              "      <th></th>\n",
              "      <th></th>\n",
              "      <th></th>\n",
              "      <th></th>\n",
              "      <th></th>\n",
              "    </tr>\n",
              "  </thead>\n",
              "  <tbody>\n",
              "    <tr>\n",
              "      <th>0d1c880d23ff018</th>\n",
              "      <td>1</td>\n",
              "      <td>2.00</td>\n",
              "      <td>2.00</td>\n",
              "      <td>0.00</td>\n",
              "      <td>0.00</td>\n",
              "      <td>0.00</td>\n",
              "      <td>0.00</td>\n",
              "      <td>0.00</td>\n",
              "      <td>-114.53</td>\n",
              "      <td>-17.22</td>\n",
              "      <td>0.00</td>\n",
              "      <td>0.00</td>\n",
              "      <td>0.00</td>\n",
              "      <td>25.26</td>\n",
              "      <td>1.00</td>\n",
              "      <td>1.00</td>\n",
              "      <td>0.00</td>\n",
              "      <td>0.00</td>\n",
              "      <td>0.00</td>\n",
              "      <td>0.00</td>\n",
              "      <td>0.00</td>\n",
              "      <td>0.00</td>\n",
              "      <td>2.49</td>\n",
              "      <td>0.00</td>\n",
              "      <td>3.77</td>\n",
              "      <td>-2.17</td>\n",
              "      <td>0.00</td>\n",
              "      <td>-11.51</td>\n",
              "      <td>0.00</td>\n",
              "      <td>0.00</td>\n",
              "      <td>0.00</td>\n",
              "      <td>0.00</td>\n",
              "      <td>0.00</td>\n",
              "      <td>0.00</td>\n",
              "      <td>0.71</td>\n",
              "      <td>-166.13</td>\n",
              "      <td>16.50</td>\n",
              "      <td>-109.95</td>\n",
              "      <td>-10.26</td>\n",
              "      <td>-35.40</td>\n",
              "      <td>...</td>\n",
              "      <td>2.00</td>\n",
              "      <td>22.00</td>\n",
              "      <td>56.00</td>\n",
              "      <td>-18.20</td>\n",
              "      <td>1.00</td>\n",
              "      <td>433.15</td>\n",
              "      <td>4.00</td>\n",
              "      <td>52.00</td>\n",
              "      <td>55.72</td>\n",
              "      <td>0.00</td>\n",
              "      <td>33.78</td>\n",
              "      <td>0.00</td>\n",
              "      <td>48.38</td>\n",
              "      <td>-6.55</td>\n",
              "      <td>0.00</td>\n",
              "      <td>62.75</td>\n",
              "      <td>111.84</td>\n",
              "      <td>213.05</td>\n",
              "      <td>20.00</td>\n",
              "      <td>18.00</td>\n",
              "      <td>225.39</td>\n",
              "      <td>0.00</td>\n",
              "      <td>0.00</td>\n",
              "      <td>0.00</td>\n",
              "      <td>160.78</td>\n",
              "      <td>0.00</td>\n",
              "      <td>2.00</td>\n",
              "      <td>0.00</td>\n",
              "      <td>19.00</td>\n",
              "      <td>0.00</td>\n",
              "      <td>39.00</td>\n",
              "      <td>2.00</td>\n",
              "      <td>223.12</td>\n",
              "      <td>290.02</td>\n",
              "      <td>1.00</td>\n",
              "      <td>1.00</td>\n",
              "      <td>0.00</td>\n",
              "      <td>1.00</td>\n",
              "      <td>2.00</td>\n",
              "      <td>2.00</td>\n",
              "    </tr>\n",
              "    <tr>\n",
              "      <th>1579ba37fd82c1f</th>\n",
              "      <td>0</td>\n",
              "      <td>1.00</td>\n",
              "      <td>1.00</td>\n",
              "      <td>0.00</td>\n",
              "      <td>0.00</td>\n",
              "      <td>1.00</td>\n",
              "      <td>0.00</td>\n",
              "      <td>0.00</td>\n",
              "      <td>329.83</td>\n",
              "      <td>nan</td>\n",
              "      <td>3.00</td>\n",
              "      <td>2.00</td>\n",
              "      <td>1.00</td>\n",
              "      <td>767.32</td>\n",
              "      <td>30.00</td>\n",
              "      <td>11.00</td>\n",
              "      <td>1.00</td>\n",
              "      <td>0.00</td>\n",
              "      <td>0.00</td>\n",
              "      <td>1.00</td>\n",
              "      <td>0.00</td>\n",
              "      <td>0.00</td>\n",
              "      <td>-1.78</td>\n",
              "      <td>0.00</td>\n",
              "      <td>-27.72</td>\n",
              "      <td>-2.05</td>\n",
              "      <td>0.00</td>\n",
              "      <td>-48.53</td>\n",
              "      <td>0.00</td>\n",
              "      <td>0.00</td>\n",
              "      <td>0.00</td>\n",
              "      <td>0.00</td>\n",
              "      <td>0.00</td>\n",
              "      <td>0.00</td>\n",
              "      <td>4198.42</td>\n",
              "      <td>6935.03</td>\n",
              "      <td>3326.12</td>\n",
              "      <td>4750.74</td>\n",
              "      <td>8171.98</td>\n",
              "      <td>6420.86</td>\n",
              "      <td>...</td>\n",
              "      <td>1.00</td>\n",
              "      <td>288.00</td>\n",
              "      <td>540.00</td>\n",
              "      <td>1573.71</td>\n",
              "      <td>1.00</td>\n",
              "      <td>885.76</td>\n",
              "      <td>104.00</td>\n",
              "      <td>230.00</td>\n",
              "      <td>349.87</td>\n",
              "      <td>0.00</td>\n",
              "      <td>6367.48</td>\n",
              "      <td>0.00</td>\n",
              "      <td>106.45</td>\n",
              "      <td>6535.30</td>\n",
              "      <td>0.00</td>\n",
              "      <td>429.12</td>\n",
              "      <td>325.66</td>\n",
              "      <td>720.58</td>\n",
              "      <td>361.00</td>\n",
              "      <td>135.00</td>\n",
              "      <td>911.83</td>\n",
              "      <td>0.00</td>\n",
              "      <td>81.00</td>\n",
              "      <td>1.00</td>\n",
              "      <td>485.23</td>\n",
              "      <td>0.00</td>\n",
              "      <td>0.00</td>\n",
              "      <td>0.00</td>\n",
              "      <td>1.00</td>\n",
              "      <td>0.00</td>\n",
              "      <td>25.00</td>\n",
              "      <td>82.00</td>\n",
              "      <td>479.62</td>\n",
              "      <td>611.65</td>\n",
              "      <td>0.00</td>\n",
              "      <td>1.00</td>\n",
              "      <td>0.00</td>\n",
              "      <td>1.00</td>\n",
              "      <td>1.00</td>\n",
              "      <td>1.00</td>\n",
              "    </tr>\n",
              "    <tr>\n",
              "      <th>790086f721c7f5e</th>\n",
              "      <td>1</td>\n",
              "      <td>0.00</td>\n",
              "      <td>0.00</td>\n",
              "      <td>0.00</td>\n",
              "      <td>0.00</td>\n",
              "      <td>0.00</td>\n",
              "      <td>0.00</td>\n",
              "      <td>0.00</td>\n",
              "      <td>17.43</td>\n",
              "      <td>-6.68</td>\n",
              "      <td>0.00</td>\n",
              "      <td>0.00</td>\n",
              "      <td>0.00</td>\n",
              "      <td>1453.02</td>\n",
              "      <td>4.00</td>\n",
              "      <td>5.00</td>\n",
              "      <td>0.00</td>\n",
              "      <td>0.00</td>\n",
              "      <td>0.00</td>\n",
              "      <td>0.00</td>\n",
              "      <td>0.00</td>\n",
              "      <td>0.00</td>\n",
              "      <td>-2.04</td>\n",
              "      <td>0.00</td>\n",
              "      <td>-0.09</td>\n",
              "      <td>-1.50</td>\n",
              "      <td>0.00</td>\n",
              "      <td>-6.23</td>\n",
              "      <td>0.00</td>\n",
              "      <td>0.00</td>\n",
              "      <td>0.00</td>\n",
              "      <td>0.00</td>\n",
              "      <td>0.00</td>\n",
              "      <td>0.00</td>\n",
              "      <td>-89.25</td>\n",
              "      <td>9.44</td>\n",
              "      <td>0.79</td>\n",
              "      <td>61.09</td>\n",
              "      <td>4.37</td>\n",
              "      <td>13.73</td>\n",
              "      <td>...</td>\n",
              "      <td>2.00</td>\n",
              "      <td>92.00</td>\n",
              "      <td>161.00</td>\n",
              "      <td>2.54</td>\n",
              "      <td>1.00</td>\n",
              "      <td>504.08</td>\n",
              "      <td>13.00</td>\n",
              "      <td>89.00</td>\n",
              "      <td>81.64</td>\n",
              "      <td>0.00</td>\n",
              "      <td>13.53</td>\n",
              "      <td>0.00</td>\n",
              "      <td>50.18</td>\n",
              "      <td>29.68</td>\n",
              "      <td>0.00</td>\n",
              "      <td>228.21</td>\n",
              "      <td>173.90</td>\n",
              "      <td>395.11</td>\n",
              "      <td>28.00</td>\n",
              "      <td>15.00</td>\n",
              "      <td>343.97</td>\n",
              "      <td>0.00</td>\n",
              "      <td>0.00</td>\n",
              "      <td>0.00</td>\n",
              "      <td>67.81</td>\n",
              "      <td>0.00</td>\n",
              "      <td>0.00</td>\n",
              "      <td>0.00</td>\n",
              "      <td>78.00</td>\n",
              "      <td>0.00</td>\n",
              "      <td>119.00</td>\n",
              "      <td>0.00</td>\n",
              "      <td>352.27</td>\n",
              "      <td>564.57</td>\n",
              "      <td>1.00</td>\n",
              "      <td>1.00</td>\n",
              "      <td>0.00</td>\n",
              "      <td>1.00</td>\n",
              "      <td>1.00</td>\n",
              "      <td>1.00</td>\n",
              "    </tr>\n",
              "  </tbody>\n",
              "</table>\n",
              "<p>3 rows × 261 columns</p>\n",
              "</div>"
            ],
            "text/plain": [
              "                 TARGET  FEATURE_0  ...  FEATURE_258  FEATURE_259\n",
              "ID                                  ...                          \n",
              "0d1c880d23ff018       1       2.00  ...         2.00         2.00\n",
              "1579ba37fd82c1f       0       1.00  ...         1.00         1.00\n",
              "790086f721c7f5e       1       0.00  ...         1.00         1.00\n",
              "\n",
              "[3 rows x 261 columns]"
            ]
          },
          "metadata": {
            "tags": []
          }
        },
        {
          "output_type": "stream",
          "text": [
            "\n",
            " \u001b[1m \u001b[32mduplicated\u001b[0m \u001b[0m \n",
            "\n",
            "0\n"
          ],
          "name": "stdout"
        }
      ]
    },
    {
      "cell_type": "code",
      "metadata": {
        "colab": {
          "base_uri": "https://localhost:8080/",
          "height": 477
        },
        "id": "zns6jH1PlgM4",
        "outputId": "466ae37c-ef0d-494f-f06b-254c49e2aaba"
      },
      "source": [
        "print_basic_info(contest_test,1,0,1,3)"
      ],
      "execution_count": 10,
      "outputs": [
        {
          "output_type": "stream",
          "text": [
            "\n",
            " \u001b[1m \u001b[32minfo\u001b[0m \u001b[0m \n",
            "\n",
            "<class 'pandas.core.frame.DataFrame'>\n",
            "Index: 9484 entries, 0749d313171551f to f91280c1f3aeac3\n",
            "Columns: 260 entries, FEATURE_0 to FEATURE_259\n",
            "dtypes: float64(260)\n",
            "memory usage: 18.9+ MB\n",
            "None\n",
            "\n",
            " \u001b[1m \u001b[32mhead\u001b[0m \u001b[0m\n"
          ],
          "name": "stdout"
        },
        {
          "output_type": "display_data",
          "data": {
            "text/html": [
              "<div>\n",
              "<style scoped>\n",
              "    .dataframe tbody tr th:only-of-type {\n",
              "        vertical-align: middle;\n",
              "    }\n",
              "\n",
              "    .dataframe tbody tr th {\n",
              "        vertical-align: top;\n",
              "    }\n",
              "\n",
              "    .dataframe thead th {\n",
              "        text-align: right;\n",
              "    }\n",
              "</style>\n",
              "<table border=\"1\" class=\"dataframe\">\n",
              "  <thead>\n",
              "    <tr style=\"text-align: right;\">\n",
              "      <th></th>\n",
              "      <th>FEATURE_0</th>\n",
              "      <th>FEATURE_1</th>\n",
              "      <th>FEATURE_2</th>\n",
              "      <th>FEATURE_3</th>\n",
              "      <th>FEATURE_4</th>\n",
              "      <th>FEATURE_5</th>\n",
              "      <th>FEATURE_6</th>\n",
              "      <th>FEATURE_7</th>\n",
              "      <th>FEATURE_8</th>\n",
              "      <th>FEATURE_9</th>\n",
              "      <th>FEATURE_10</th>\n",
              "      <th>FEATURE_11</th>\n",
              "      <th>FEATURE_12</th>\n",
              "      <th>FEATURE_13</th>\n",
              "      <th>FEATURE_14</th>\n",
              "      <th>FEATURE_15</th>\n",
              "      <th>FEATURE_16</th>\n",
              "      <th>FEATURE_17</th>\n",
              "      <th>FEATURE_18</th>\n",
              "      <th>FEATURE_19</th>\n",
              "      <th>FEATURE_20</th>\n",
              "      <th>FEATURE_21</th>\n",
              "      <th>FEATURE_22</th>\n",
              "      <th>FEATURE_23</th>\n",
              "      <th>FEATURE_24</th>\n",
              "      <th>FEATURE_25</th>\n",
              "      <th>FEATURE_26</th>\n",
              "      <th>FEATURE_27</th>\n",
              "      <th>FEATURE_28</th>\n",
              "      <th>FEATURE_29</th>\n",
              "      <th>FEATURE_30</th>\n",
              "      <th>FEATURE_31</th>\n",
              "      <th>FEATURE_32</th>\n",
              "      <th>FEATURE_33</th>\n",
              "      <th>FEATURE_34</th>\n",
              "      <th>FEATURE_35</th>\n",
              "      <th>FEATURE_36</th>\n",
              "      <th>FEATURE_37</th>\n",
              "      <th>FEATURE_38</th>\n",
              "      <th>FEATURE_39</th>\n",
              "      <th>...</th>\n",
              "      <th>FEATURE_220</th>\n",
              "      <th>FEATURE_221</th>\n",
              "      <th>FEATURE_222</th>\n",
              "      <th>FEATURE_223</th>\n",
              "      <th>FEATURE_224</th>\n",
              "      <th>FEATURE_225</th>\n",
              "      <th>FEATURE_226</th>\n",
              "      <th>FEATURE_227</th>\n",
              "      <th>FEATURE_228</th>\n",
              "      <th>FEATURE_229</th>\n",
              "      <th>FEATURE_230</th>\n",
              "      <th>FEATURE_231</th>\n",
              "      <th>FEATURE_232</th>\n",
              "      <th>FEATURE_233</th>\n",
              "      <th>FEATURE_234</th>\n",
              "      <th>FEATURE_235</th>\n",
              "      <th>FEATURE_236</th>\n",
              "      <th>FEATURE_237</th>\n",
              "      <th>FEATURE_238</th>\n",
              "      <th>FEATURE_239</th>\n",
              "      <th>FEATURE_240</th>\n",
              "      <th>FEATURE_241</th>\n",
              "      <th>FEATURE_242</th>\n",
              "      <th>FEATURE_243</th>\n",
              "      <th>FEATURE_244</th>\n",
              "      <th>FEATURE_245</th>\n",
              "      <th>FEATURE_246</th>\n",
              "      <th>FEATURE_247</th>\n",
              "      <th>FEATURE_248</th>\n",
              "      <th>FEATURE_249</th>\n",
              "      <th>FEATURE_250</th>\n",
              "      <th>FEATURE_251</th>\n",
              "      <th>FEATURE_252</th>\n",
              "      <th>FEATURE_253</th>\n",
              "      <th>FEATURE_254</th>\n",
              "      <th>FEATURE_255</th>\n",
              "      <th>FEATURE_256</th>\n",
              "      <th>FEATURE_257</th>\n",
              "      <th>FEATURE_258</th>\n",
              "      <th>FEATURE_259</th>\n",
              "    </tr>\n",
              "    <tr>\n",
              "      <th>ID</th>\n",
              "      <th></th>\n",
              "      <th></th>\n",
              "      <th></th>\n",
              "      <th></th>\n",
              "      <th></th>\n",
              "      <th></th>\n",
              "      <th></th>\n",
              "      <th></th>\n",
              "      <th></th>\n",
              "      <th></th>\n",
              "      <th></th>\n",
              "      <th></th>\n",
              "      <th></th>\n",
              "      <th></th>\n",
              "      <th></th>\n",
              "      <th></th>\n",
              "      <th></th>\n",
              "      <th></th>\n",
              "      <th></th>\n",
              "      <th></th>\n",
              "      <th></th>\n",
              "      <th></th>\n",
              "      <th></th>\n",
              "      <th></th>\n",
              "      <th></th>\n",
              "      <th></th>\n",
              "      <th></th>\n",
              "      <th></th>\n",
              "      <th></th>\n",
              "      <th></th>\n",
              "      <th></th>\n",
              "      <th></th>\n",
              "      <th></th>\n",
              "      <th></th>\n",
              "      <th></th>\n",
              "      <th></th>\n",
              "      <th></th>\n",
              "      <th></th>\n",
              "      <th></th>\n",
              "      <th></th>\n",
              "      <th></th>\n",
              "      <th></th>\n",
              "      <th></th>\n",
              "      <th></th>\n",
              "      <th></th>\n",
              "      <th></th>\n",
              "      <th></th>\n",
              "      <th></th>\n",
              "      <th></th>\n",
              "      <th></th>\n",
              "      <th></th>\n",
              "      <th></th>\n",
              "      <th></th>\n",
              "      <th></th>\n",
              "      <th></th>\n",
              "      <th></th>\n",
              "      <th></th>\n",
              "      <th></th>\n",
              "      <th></th>\n",
              "      <th></th>\n",
              "      <th></th>\n",
              "      <th></th>\n",
              "      <th></th>\n",
              "      <th></th>\n",
              "      <th></th>\n",
              "      <th></th>\n",
              "      <th></th>\n",
              "      <th></th>\n",
              "      <th></th>\n",
              "      <th></th>\n",
              "      <th></th>\n",
              "      <th></th>\n",
              "      <th></th>\n",
              "      <th></th>\n",
              "      <th></th>\n",
              "      <th></th>\n",
              "      <th></th>\n",
              "      <th></th>\n",
              "      <th></th>\n",
              "      <th></th>\n",
              "      <th></th>\n",
              "    </tr>\n",
              "  </thead>\n",
              "  <tbody>\n",
              "    <tr>\n",
              "      <th>0749d313171551f</th>\n",
              "      <td>1.00</td>\n",
              "      <td>1.00</td>\n",
              "      <td>0.00</td>\n",
              "      <td>0.00</td>\n",
              "      <td>0.00</td>\n",
              "      <td>0.00</td>\n",
              "      <td>0.00</td>\n",
              "      <td>-46.95</td>\n",
              "      <td>-45.02</td>\n",
              "      <td>0.00</td>\n",
              "      <td>0.00</td>\n",
              "      <td>0.00</td>\n",
              "      <td>375.28</td>\n",
              "      <td>3.00</td>\n",
              "      <td>3.00</td>\n",
              "      <td>0.00</td>\n",
              "      <td>0.00</td>\n",
              "      <td>0.00</td>\n",
              "      <td>0.00</td>\n",
              "      <td>0.00</td>\n",
              "      <td>0.00</td>\n",
              "      <td>6.43</td>\n",
              "      <td>0.00</td>\n",
              "      <td>2.32</td>\n",
              "      <td>-0.91</td>\n",
              "      <td>0.00</td>\n",
              "      <td>-22.23</td>\n",
              "      <td>0.00</td>\n",
              "      <td>0.00</td>\n",
              "      <td>0.00</td>\n",
              "      <td>0.00</td>\n",
              "      <td>0.00</td>\n",
              "      <td>0.00</td>\n",
              "      <td>-42.82</td>\n",
              "      <td>1.15</td>\n",
              "      <td>85.29</td>\n",
              "      <td>-23.31</td>\n",
              "      <td>-38.46</td>\n",
              "      <td>9.58</td>\n",
              "      <td>0.00</td>\n",
              "      <td>...</td>\n",
              "      <td>1.00</td>\n",
              "      <td>97.00</td>\n",
              "      <td>178.00</td>\n",
              "      <td>38.76</td>\n",
              "      <td>0.00</td>\n",
              "      <td>415.01</td>\n",
              "      <td>2.00</td>\n",
              "      <td>73.00</td>\n",
              "      <td>73.72</td>\n",
              "      <td>0.00</td>\n",
              "      <td>-34.98</td>\n",
              "      <td>0.00</td>\n",
              "      <td>6.48</td>\n",
              "      <td>37.03</td>\n",
              "      <td>0.00</td>\n",
              "      <td>449.59</td>\n",
              "      <td>177.51</td>\n",
              "      <td>596.62</td>\n",
              "      <td>8.00</td>\n",
              "      <td>19.00</td>\n",
              "      <td>97.92</td>\n",
              "      <td>0.00</td>\n",
              "      <td>0.00</td>\n",
              "      <td>0.00</td>\n",
              "      <td>134.42</td>\n",
              "      <td>0.00</td>\n",
              "      <td>0.00</td>\n",
              "      <td>0.00</td>\n",
              "      <td>2.00</td>\n",
              "      <td>0.00</td>\n",
              "      <td>0.00</td>\n",
              "      <td>0.00</td>\n",
              "      <td>190.59</td>\n",
              "      <td>162.05</td>\n",
              "      <td>1.00</td>\n",
              "      <td>0.00</td>\n",
              "      <td>1.00</td>\n",
              "      <td>1.00</td>\n",
              "      <td>1.00</td>\n",
              "      <td>1.00</td>\n",
              "    </tr>\n",
              "    <tr>\n",
              "      <th>ddb093edbbbe1ef</th>\n",
              "      <td>0.00</td>\n",
              "      <td>0.00</td>\n",
              "      <td>1.00</td>\n",
              "      <td>0.00</td>\n",
              "      <td>0.00</td>\n",
              "      <td>0.00</td>\n",
              "      <td>0.00</td>\n",
              "      <td>343.63</td>\n",
              "      <td>nan</td>\n",
              "      <td>3.00</td>\n",
              "      <td>1.00</td>\n",
              "      <td>0.00</td>\n",
              "      <td>1151.53</td>\n",
              "      <td>8.00</td>\n",
              "      <td>8.00</td>\n",
              "      <td>1.00</td>\n",
              "      <td>0.00</td>\n",
              "      <td>0.00</td>\n",
              "      <td>1.00</td>\n",
              "      <td>0.00</td>\n",
              "      <td>0.00</td>\n",
              "      <td>8.92</td>\n",
              "      <td>0.00</td>\n",
              "      <td>-13.34</td>\n",
              "      <td>-1.00</td>\n",
              "      <td>0.00</td>\n",
              "      <td>-52.52</td>\n",
              "      <td>0.00</td>\n",
              "      <td>0.00</td>\n",
              "      <td>0.00</td>\n",
              "      <td>0.00</td>\n",
              "      <td>0.00</td>\n",
              "      <td>0.00</td>\n",
              "      <td>612.40</td>\n",
              "      <td>6078.98</td>\n",
              "      <td>5783.61</td>\n",
              "      <td>4778.63</td>\n",
              "      <td>7561.82</td>\n",
              "      <td>6912.77</td>\n",
              "      <td>0.00</td>\n",
              "      <td>...</td>\n",
              "      <td>2.00</td>\n",
              "      <td>60.00</td>\n",
              "      <td>146.00</td>\n",
              "      <td>394.90</td>\n",
              "      <td>4.00</td>\n",
              "      <td>594.21</td>\n",
              "      <td>5.00</td>\n",
              "      <td>194.00</td>\n",
              "      <td>200.01</td>\n",
              "      <td>0.00</td>\n",
              "      <td>6466.66</td>\n",
              "      <td>0.00</td>\n",
              "      <td>4391.99</td>\n",
              "      <td>10918.51</td>\n",
              "      <td>0.00</td>\n",
              "      <td>59.05</td>\n",
              "      <td>183.03</td>\n",
              "      <td>178.58</td>\n",
              "      <td>69.00</td>\n",
              "      <td>132.00</td>\n",
              "      <td>803.11</td>\n",
              "      <td>0.00</td>\n",
              "      <td>56.00</td>\n",
              "      <td>53.00</td>\n",
              "      <td>550.70</td>\n",
              "      <td>0.00</td>\n",
              "      <td>0.00</td>\n",
              "      <td>1.00</td>\n",
              "      <td>4.00</td>\n",
              "      <td>0.00</td>\n",
              "      <td>5.00</td>\n",
              "      <td>109.00</td>\n",
              "      <td>594.57</td>\n",
              "      <td>685.50</td>\n",
              "      <td>1.00</td>\n",
              "      <td>1.00</td>\n",
              "      <td>0.00</td>\n",
              "      <td>1.00</td>\n",
              "      <td>1.00</td>\n",
              "      <td>2.00</td>\n",
              "    </tr>\n",
              "    <tr>\n",
              "      <th>cef8538a6054069</th>\n",
              "      <td>0.00</td>\n",
              "      <td>0.00</td>\n",
              "      <td>0.00</td>\n",
              "      <td>0.00</td>\n",
              "      <td>1.00</td>\n",
              "      <td>0.00</td>\n",
              "      <td>0.00</td>\n",
              "      <td>909.18</td>\n",
              "      <td>3260.45</td>\n",
              "      <td>3.00</td>\n",
              "      <td>1.00</td>\n",
              "      <td>1.00</td>\n",
              "      <td>595.16</td>\n",
              "      <td>4.00</td>\n",
              "      <td>4.00</td>\n",
              "      <td>0.00</td>\n",
              "      <td>0.00</td>\n",
              "      <td>0.00</td>\n",
              "      <td>0.00</td>\n",
              "      <td>0.00</td>\n",
              "      <td>0.00</td>\n",
              "      <td>-2.81</td>\n",
              "      <td>197.60</td>\n",
              "      <td>7.13</td>\n",
              "      <td>16.61</td>\n",
              "      <td>3.90</td>\n",
              "      <td>-99.62</td>\n",
              "      <td>0.00</td>\n",
              "      <td>0.00</td>\n",
              "      <td>0.00</td>\n",
              "      <td>0.00</td>\n",
              "      <td>0.00</td>\n",
              "      <td>0.00</td>\n",
              "      <td>-14.79</td>\n",
              "      <td>-7.92</td>\n",
              "      <td>-4.37</td>\n",
              "      <td>-12.63</td>\n",
              "      <td>26.08</td>\n",
              "      <td>-21.53</td>\n",
              "      <td>10.00</td>\n",
              "      <td>...</td>\n",
              "      <td>1.00</td>\n",
              "      <td>0.00</td>\n",
              "      <td>10.00</td>\n",
              "      <td>192.36</td>\n",
              "      <td>0.00</td>\n",
              "      <td>468.26</td>\n",
              "      <td>0.00</td>\n",
              "      <td>30.00</td>\n",
              "      <td>5.82</td>\n",
              "      <td>0.00</td>\n",
              "      <td>5.60</td>\n",
              "      <td>41.00</td>\n",
              "      <td>1088.63</td>\n",
              "      <td>1049.88</td>\n",
              "      <td>0.00</td>\n",
              "      <td>-21.71</td>\n",
              "      <td>6.28</td>\n",
              "      <td>-13.56</td>\n",
              "      <td>0.00</td>\n",
              "      <td>0.00</td>\n",
              "      <td>284.93</td>\n",
              "      <td>0.00</td>\n",
              "      <td>0.00</td>\n",
              "      <td>297.00</td>\n",
              "      <td>9.59</td>\n",
              "      <td>0.00</td>\n",
              "      <td>0.00</td>\n",
              "      <td>0.00</td>\n",
              "      <td>0.00</td>\n",
              "      <td>0.00</td>\n",
              "      <td>0.00</td>\n",
              "      <td>297.00</td>\n",
              "      <td>10.21</td>\n",
              "      <td>300.40</td>\n",
              "      <td>0.00</td>\n",
              "      <td>0.00</td>\n",
              "      <td>0.00</td>\n",
              "      <td>1.00</td>\n",
              "      <td>1.00</td>\n",
              "      <td>1.00</td>\n",
              "    </tr>\n",
              "  </tbody>\n",
              "</table>\n",
              "<p>3 rows × 260 columns</p>\n",
              "</div>"
            ],
            "text/plain": [
              "                 FEATURE_0  FEATURE_1  ...  FEATURE_258  FEATURE_259\n",
              "ID                                     ...                          \n",
              "0749d313171551f       1.00       1.00  ...         1.00         1.00\n",
              "ddb093edbbbe1ef       0.00       0.00  ...         1.00         2.00\n",
              "cef8538a6054069       0.00       0.00  ...         1.00         1.00\n",
              "\n",
              "[3 rows x 260 columns]"
            ]
          },
          "metadata": {
            "tags": []
          }
        },
        {
          "output_type": "stream",
          "text": [
            "\n",
            " \u001b[1m \u001b[32mduplicated\u001b[0m \u001b[0m \n",
            "\n",
            "0\n"
          ],
          "name": "stdout"
        }
      ]
    },
    {
      "cell_type": "code",
      "metadata": {
        "colab": {
          "base_uri": "https://localhost:8080/"
        },
        "id": "VhoCv3UOlgM6",
        "outputId": "6e569a23-4bc0-4ef0-a7f1-f6de651a9ff5"
      },
      "source": [
        "ft_name_count(contest_train, 'TARGET' , 1, 1, 0)"
      ],
      "execution_count": 11,
      "outputs": [
        {
          "output_type": "stream",
          "text": [
            "\u001b[1m \u001b[34mTARGET\u001b[0m \u001b[0m \n",
            "\n",
            "0         0.71\n",
            "1         0.23\n",
            "2         0.06\n",
            "Name: TARGET, dtype: float64\n"
          ],
          "name": "stdout"
        }
      ]
    },
    {
      "cell_type": "markdown",
      "metadata": {
        "id": "FeAD4doRlgM6"
      },
      "source": [
        "База состоит из 24521 кейсов в трейне и 9484 в тесте <br> 260 features. \n",
        "\n",
        "Дублей нет. \n",
        "\n",
        "Не все заполнены. Есть пропуски.\n",
        "\n",
        "**TARGET** - Есть дисбаланс. Сильный. Больше всего сегмента 0. Меньше всего 2. \n",
        "Поэтому скорее всего нам потребуется бустировать часть выборки, при обучении модели."
      ]
    },
    {
      "cell_type": "markdown",
      "metadata": {
        "id": "6qCFWv3JvoY5"
      },
      "source": [
        " ## Попробуем понять какие столбцы нам не понадобятся и обработать пропуски"
      ]
    },
    {
      "cell_type": "code",
      "metadata": {
        "id": "by3eao9c1qDl"
      },
      "source": [
        "# посмотрим есть ли не нумеррик стобцы\n",
        "for i in range(0,len(contest_train.columns)):\n",
        "  if contest_train.dtypes[i] != 'int64' and contest_train.dtypes[i] != 'float64':\n",
        "    print(contest_train.dtypes[i])\n",
        "\n",
        "for i in range(0,len(contest_test.columns)):\n",
        "  if contest_test.dtypes[i] != 'int64' and contest_test.dtypes[i] != 'float64':\n",
        "    print(contest_test.dtypes[i])\n",
        "\n",
        "# таких нет"
      ],
      "execution_count": 12,
      "outputs": []
    },
    {
      "cell_type": "code",
      "metadata": {
        "colab": {
          "base_uri": "https://localhost:8080/"
        },
        "id": "g1V67Jo2ymVq",
        "outputId": "ce35edcd-9692-4b69-ce2a-a9b9d3f9325e"
      },
      "source": [
        "# посмотрим есть столбцы запоненные менее чем на 75%\n",
        "for i in range(0,len(contest_train.columns)):\n",
        "  if contest_train[contest_train.columns[i]].isnull().mean() > 0.75:\n",
        "    print(contest_train.columns[i], \" - \", contest_train[contest_train.columns[i]].isnull().mean())"
      ],
      "execution_count": 13,
      "outputs": [
        {
          "output_type": "stream",
          "text": [
            "FEATURE_189  -  0.986746054402349\n"
          ],
          "name": "stdout"
        }
      ]
    },
    {
      "cell_type": "markdown",
      "metadata": {
        "id": "ks8mYA285abY"
      },
      "source": [
        "Удалим FEATURE_189"
      ]
    },
    {
      "cell_type": "code",
      "metadata": {
        "colab": {
          "base_uri": "https://localhost:8080/"
        },
        "id": "EMSDhZyv5qv5",
        "outputId": "cf4e22bc-ec00-4ec4-9a3d-08f8125af9bb"
      },
      "source": [
        "# посмотрим есть столбцы запоненные менее чем на 65%\n",
        "for i in range(0,len(contest_train.columns)):\n",
        "  if contest_train[contest_train.columns[i]].isnull().mean() > 0.65:\n",
        "    print(contest_train.columns[i], \" - \", contest_train[contest_train.columns[i]].isnull().mean())"
      ],
      "execution_count": 14,
      "outputs": [
        {
          "output_type": "stream",
          "text": [
            "FEATURE_189  -  0.986746054402349\n",
            "FEATURE_190  -  0.7011133314302027\n",
            "FEATURE_194  -  0.7032747440968965\n"
          ],
          "name": "stdout"
        }
      ]
    },
    {
      "cell_type": "markdown",
      "metadata": {
        "id": "4_gLpjr96xqD"
      },
      "source": [
        "Удалим FEATURE_189"
      ]
    },
    {
      "cell_type": "code",
      "metadata": {
        "colab": {
          "base_uri": "https://localhost:8080/"
        },
        "id": "eeTXPAiy7CtH",
        "outputId": "fb713f18-ec6f-463d-9871-c9fe2fac290a"
      },
      "source": [
        "# посмотрим есть столбцы запоненные менее чем на 3 значенияи\n",
        "for i in range(0,len(contest_train.columns)):\n",
        "  if len(contest_train[contest_train.columns[i]].unique()) < 3:\n",
        "    print(contest_train.columns[i], \" - \", len(contest_train[contest_train.columns[i]].unique()))"
      ],
      "execution_count": 15,
      "outputs": [
        {
          "output_type": "stream",
          "text": [
            "FEATURE_2  -  2\n",
            "FEATURE_3  -  1\n",
            "FEATURE_4  -  2\n",
            "FEATURE_5  -  2\n",
            "FEATURE_6  -  2\n",
            "FEATURE_11  -  2\n",
            "FEATURE_15  -  2\n",
            "FEATURE_16  -  2\n",
            "FEATURE_17  -  2\n",
            "FEATURE_18  -  2\n",
            "FEATURE_19  -  2\n",
            "FEATURE_140  -  2\n",
            "FEATURE_144  -  1\n",
            "FEATURE_159  -  2\n",
            "FEATURE_249  -  1\n",
            "FEATURE_254  -  2\n",
            "FEATURE_255  -  2\n",
            "FEATURE_256  -  1\n"
          ],
          "name": "stdout"
        }
      ]
    },
    {
      "cell_type": "markdown",
      "metadata": {
        "id": "8gUNqS6n8L4b"
      },
      "source": [
        "Смело можем удалить если только 1 значение (FEATURE_3, FEATURE_144, FEATURE_256)\n",
        "\n",
        "Удалим:"
      ]
    },
    {
      "cell_type": "code",
      "metadata": {
        "id": "fxbH1XEp9HwV"
      },
      "source": [
        "f_del = {\"FEATURE_189\",\"FEATURE_3\", \"FEATURE_144\", \"FEATURE_256\"}\n",
        "\n",
        "contest_train = contest_train.drop(f_del, axis=1)\n",
        "contest_test = contest_test.drop(f_del, axis=1)"
      ],
      "execution_count": 16,
      "outputs": []
    },
    {
      "cell_type": "code",
      "metadata": {
        "colab": {
          "base_uri": "https://localhost:8080/"
        },
        "id": "UUmawTBslgM6",
        "outputId": "88401dd8-7a29-4f02-fdca-b023ca6de5af"
      },
      "source": [
        "# Заполним пропуски на основе 4 ближайших сеседей.\n",
        "imputer = KNNImputer(n_neighbors=4)\n",
        "\n",
        "# Фит train\n",
        "imputer.fit(contest_train.drop(['TARGET'], axis=1))"
      ],
      "execution_count": 17,
      "outputs": [
        {
          "output_type": "execute_result",
          "data": {
            "text/plain": [
              "KNNImputer(add_indicator=False, copy=True, metric='nan_euclidean',\n",
              "           missing_values=nan, n_neighbors=4, weights='uniform')"
            ]
          },
          "metadata": {
            "tags": []
          },
          "execution_count": 17
        }
      ]
    },
    {
      "cell_type": "markdown",
      "metadata": {
        "id": "8X1GvcVToqTR"
      },
      "source": [
        "Транформ"
      ]
    },
    {
      "cell_type": "code",
      "metadata": {
        "id": "yPq78J4T_e1O"
      },
      "source": [
        "# закоментировала этот кусок ииза длительности исполнения\n",
        "\n",
        "#contest_train_after = imputer.transform(contest_train.drop(['TARGET'], axis=1))\n",
        "#contest_test_aftet = imputer.transform(contest_test)\n",
        "\n",
        "# проверим, что шейп не попыл\n",
        "#print(contest_train_after.shape, contest_train.shape, contest_test_aftet.shape)"
      ],
      "execution_count": 18,
      "outputs": []
    },
    {
      "cell_type": "markdown",
      "metadata": {
        "id": "Sc6JZw3ZlgM7"
      },
      "source": [
        "Сделаем пандавским датафреймом"
      ]
    },
    {
      "cell_type": "code",
      "metadata": {
        "id": "02zhESjxlgM8"
      },
      "source": [
        "# pd_contest_train_after = pd.DataFrame(contest_train_after, index = contest_train.index,\n",
        "#                                       columns = contest_train.drop(['TARGET'], axis=1).columns.values)\n",
        "\n",
        "# pd_contest_train_after['TARGET'] = contest_train['TARGET']\n",
        "\n",
        "# pd_contest_test_after = pd.DataFrame(contest_test_aftet, index = contest_test.index ,\n",
        "#                                       columns = contest_test.columns.values)"
      ],
      "execution_count": 19,
      "outputs": []
    },
    {
      "cell_type": "markdown",
      "metadata": {
        "id": "R26hTn_TB4aT"
      },
      "source": [
        "Сохраним новые базы, чтоб каждый раз не заполнять (т.к. долго)"
      ]
    },
    {
      "cell_type": "code",
      "metadata": {
        "id": "MuwsIy1eBkfL"
      },
      "source": [
        "#pd_contest_train_after.to_csv(\"/content/drive/MyDrive/Colab Notebooks/datasets/contest_train_KNNImputer.csv\")\n",
        "#pd_contest_test_after.to_csv(\"/content/drive/MyDrive/Colab Notebooks/datasets/contest_test_KNNImputer.csv\")"
      ],
      "execution_count": 20,
      "outputs": []
    },
    {
      "cell_type": "markdown",
      "metadata": {
        "id": "TmkFkiDmyxzK"
      },
      "source": [
        "При необходимости - загрузим заполненные базы"
      ]
    },
    {
      "cell_type": "code",
      "metadata": {
        "id": "idkdjibbBwU0"
      },
      "source": [
        "pd_contest_train_after = pd.read_csv('/content/drive/MyDrive/Colab Notebooks/datasets/contest_train_KNNImputer.csv', sep=',',decimal='.' , index_col= 'ID')\n",
        "pd_contest_test_after = pd.read_csv('/content/drive/MyDrive/Colab Notebooks/datasets/contest_test_KNNImputer.csv', sep=',',decimal='.', index_col = 'ID')\n"
      ],
      "execution_count": 21,
      "outputs": []
    },
    {
      "cell_type": "markdown",
      "metadata": {
        "id": "sS7_TnqOlgM8"
      },
      "source": [
        "Проверим заполненность"
      ]
    },
    {
      "cell_type": "code",
      "metadata": {
        "id": "aBo4UXNQFZDn"
      },
      "source": [
        "# трейн\n",
        "for i in pd_contest_train_after.columns:\n",
        "    if pd_contest_train_after[pd_contest_train_after[i].isnull() == True]['TARGET'].sum() > 0:\n",
        "        print(i, pd_contest_train_after[pd_contest_train_after[i].isnull() == True]['TARGET'].sum())"
      ],
      "execution_count": 22,
      "outputs": []
    },
    {
      "cell_type": "code",
      "metadata": {
        "id": "bPErekevlgM8"
      },
      "source": [
        "# тест\n",
        "for i in pd_contest_test_after.columns:\n",
        "    if pd_contest_test_after[pd_contest_test_after[i].isnull() == True]['FEATURE_0'].sum() > 0:\n",
        "        print(i, pd_contest_test_after[pd_contest_test_after[i].isnull() == True]['FEATURE_0'].sum())"
      ],
      "execution_count": 23,
      "outputs": []
    },
    {
      "cell_type": "markdown",
      "metadata": {
        "id": "OiAMXyumlgM9"
      },
      "source": [
        "Почистим от inf значений, чтобы исключить ошибку"
      ]
    },
    {
      "cell_type": "code",
      "metadata": {
        "id": "cIAweTUm-uU-"
      },
      "source": [
        "def clean_dataset(df):\n",
        "    assert isinstance(df, pd.DataFrame), \"df needs to be a pd.DataFrame\"\n",
        "    df.dropna(inplace=True)\n",
        "    indices_to_keep = ~df.isin([np.nan, np.inf, -np.inf]).any(1)\n",
        "    return df[indices_to_keep].astype(np.float64)\n",
        "\n",
        "cl_contest_train = clean_dataset(pd_contest_train_after)\n",
        "cl_contest_test = clean_dataset(pd_contest_test_after)"
      ],
      "execution_count": 24,
      "outputs": []
    },
    {
      "cell_type": "markdown",
      "metadata": {
        "id": "KB0DsGZFlgM9"
      },
      "source": [
        "#### Разабьем данные на выборки"
      ]
    },
    {
      "cell_type": "code",
      "metadata": {
        "id": "sqOEzNyOlgM9"
      },
      "source": [
        "features = cl_contest_train.drop(['TARGET'], axis=1)\n",
        "target = contest_train['TARGET']\n",
        "features_test = cl_contest_test"
      ],
      "execution_count": 25,
      "outputs": []
    },
    {
      "cell_type": "code",
      "metadata": {
        "id": "V2bxDBaclgM-"
      },
      "source": [
        "#разбиваем, стратифицируем\n",
        "features_train_big, features_valid, target_train_big, target_valid = train_test_split(features, target , test_size=0.20, \n",
        "                                                                              random_state=515093, stratify = target)\n",
        "\n",
        "features_train, features_valid = np.array(features_train_big), np.array(features_valid)"
      ],
      "execution_count": 26,
      "outputs": []
    },
    {
      "cell_type": "markdown",
      "metadata": {
        "id": "Pb2h157GpnSR"
      },
      "source": [
        "#### Сделаем ресемплинг"
      ]
    },
    {
      "cell_type": "markdown",
      "metadata": {
        "id": "7nky1IDrlgND"
      },
      "source": [
        "За модель берем дерево принятия решения и делаем ресемплинг.\n",
        "\n",
        "Меньше 0 сегмента, больше 2 сегмента "
      ]
    },
    {
      "cell_type": "code",
      "metadata": {
        "id": "bvRZ3iJ4lgND"
      },
      "source": [
        "def resample(features, target, repeat_down, repeat_up):\n",
        "    features_zeros = features[target == 0]\n",
        "    features_ones = features[target == 1]\n",
        "    features_two = features[target == 2]\n",
        "    target_zeros = target[target == 0]\n",
        "    target_ones = target[target == 1]\n",
        "    target_two = target[target == 2]\n",
        "\n",
        "    features_resampled = pd.concat([features_zeros.sample(n =(int(len(features_zeros)*repeat_down)), \n",
        "                                                            replace=False,random_state=2)] + [features_ones] \n",
        "                                   + [features_two.sample(n =(int(len(features_two)*repeat_up)), \n",
        "                                                            replace=True,random_state=2)])\n",
        "    \n",
        "    target_resampled = pd.concat([target_zeros.sample(n =(int(len(target_zeros)*repeat_down)),\n",
        "                                                        replace=False)] + [target_ones] \n",
        "                                 + [target_two.sample(n =(int(len(target_two)*repeat_up)), \n",
        "                                                            replace=True)])\n",
        "    features_resampled, target_resampled = shuffle(features_resampled, target_resampled, random_state=12345)\n",
        "    features_resampled.reset_index(drop = True, inplace = True)\n",
        "    target_resampled.reset_index(drop = True, inplace = True)\n",
        "    return features_resampled, target_resampled"
      ],
      "execution_count": 27,
      "outputs": []
    },
    {
      "cell_type": "code",
      "metadata": {
        "id": "mD8sONLaGaAQ"
      },
      "source": [
        "# попробуем подобрать на RandomForestClassifier лучший вариант\n",
        "base_up = pd.DataFrame()\n",
        "\n",
        "model_RFC = RandomForestClassifier(n_estimators = 50, random_state = 2)\n",
        "\n",
        "for i in np.arange(0.35, 0.42, 0.02):\n",
        "    for j in np.arange(2.2, 2.6, 0.1):\n",
        "        features_resampled, target_resampled = resample(features_train_big, target_train_big, i , j)\n",
        "        model_RFC.fit(features_resampled, target_resampled)\n",
        "        prediction = model_RFC.predict(features_valid)\n",
        "        target_names = ['Seg-0', 'Seg-1', 'Seg-2']\n",
        "        for r in classification_report(target_valid, prediction, target_names=target_names).split(\"\\n\"):\n",
        "          t = r.split( )\n",
        "          if len(t) == 5 and t[0] == 'Seg-0':\n",
        "            base_up.loc[str(round(i,2)) + \" \" + str(round(j,2)),'Seg-0'] = float(t[3])\n",
        "          if len(t) == 5 and t[0] == 'Seg-1':\n",
        "            base_up.loc[str(round(i,2)) + \" \" + str(round(j,2)),'Seg-1'] = float(t[3])\n",
        "          if len(t) == 5 and t[0] == 'Seg-2':\n",
        "            base_up.loc[str(round(i,2)) + \" \" + str(round(j,2)),'Seg-2'] = float(t[3])\n",
        "        base_up.loc[str(round(i,2)) + \" \" + str(round(j,2)) ,'Macro F1'] = f1_score(target_valid, prediction, average='macro')"
      ],
      "execution_count": 28,
      "outputs": []
    },
    {
      "cell_type": "code",
      "metadata": {
        "colab": {
          "base_uri": "https://localhost:8080/",
          "height": 370
        },
        "id": "eB2f842dlgNE",
        "outputId": "e57e8884-6b96-4342-88b0-e91598b29610"
      },
      "source": [
        "#строим график\n",
        "sns.set(style=\"whitegrid\")\n",
        "plt.figure(figsize = (20,5)) \n",
        "sns.lineplot(data=base_up, palette=\"tab20\", linewidth=2.5)\n",
        "plt.title(\"F1 моделей с различными долями сегментов\\n\", fontsize=15)\n",
        "plt.ylabel(\"F1 %%\")\n",
        "plt.xlabel(\"sample size\")\n",
        "#plt.ylim((0.1, 0.6)) \n",
        "plt.show()"
      ],
      "execution_count": 29,
      "outputs": [
        {
          "output_type": "display_data",
          "data": {
            "image/png": "[encoded data removed]",
            "text/plain": [
              "<Figure size 1440x360 with 1 Axes>"
            ]
          },
          "metadata": {
            "tags": []
          }
        }
      ]
    },
    {
      "cell_type": "code",
      "metadata": {
        "id": "FVnjII9LlgNE"
      },
      "source": [
        "# возьмем\n",
        "features_resampled, target_resampled = resample(features_train_big, target_train_big, 0.39, 2.2)\n",
        "features_resampled, target_resampled = np.array(features_resampled), target_resampled"
      ],
      "execution_count": 30,
      "outputs": []
    },
    {
      "cell_type": "code",
      "metadata": {
        "colab": {
          "base_uri": "https://localhost:8080/"
        },
        "id": "LqtFRPVJlgNF",
        "outputId": "e2110f5d-b1a2-4592-e50c-2e37441f3161"
      },
      "source": [
        "target_resampled.value_counts(normalize=True)"
      ],
      "execution_count": 31,
      "outputs": [
        {
          "output_type": "execute_result",
          "data": {
            "text/plain": [
              "0         0.43\n",
              "1         0.36\n",
              "2         0.21\n",
              "Name: TARGET, dtype: float64"
            ]
          },
          "metadata": {
            "tags": []
          },
          "execution_count": 31
        }
      ]
    },
    {
      "cell_type": "markdown",
      "metadata": {
        "id": "zDxf6YqblgNF"
      },
      "source": [
        "<a name=\"2.\"></a><br/>\n",
        "<font size=\"6\"><b>2. Обучение модели </b></font>.<br/>"
      ]
    },
    {
      "cell_type": "code",
      "metadata": {
        "id": "h3Do69ZeVjmg"
      },
      "source": [
        "# cделаем функцию с нужными нам параметрами\n",
        "def put_in_base_test(base_res, model, features_train, target_train, features_valid, target_valid):\n",
        "    model.fit(features_train, target_train)\n",
        "    target = target_valid\n",
        "    features = features_valid \n",
        "    proba = pd.DataFrame(model.predict_proba(features_valid), columns = ['0','1','2'])\n",
        "    proba['predict'] = pd.Series(model.predict(features_valid))    \n",
        "    prediction = proba['predict']\n",
        "    accuracy, precision, recall, f1 = [], [], [], []\n",
        "    accuracy.append(accuracy_score(target, prediction))\n",
        "    precision.append(precision_score(target, prediction, average='macro'))\n",
        "    recall.append(recall_score(target, prediction, average='macro'))\n",
        "    f1.append(f1_score(target, prediction, average='macro'))\n",
        "    target_names = ['Seg - 0', 'Seg - 1', 'Seg - 2']\n",
        "    # будем печатать подробный отчет\n",
        "    print(classification_report(target, prediction, target_names=target_names))\n",
        "    base_res.loc[str(model).split('(')[0],'accuracy'] = np.mean(accuracy)\n",
        "    base_res.loc[str(model).split('(')[0],'precision'] = np.mean(precision)\n",
        "    base_res.loc[str(model).split('(')[0],'recall'] = np.mean(recall)\n",
        "    base_res.loc[str(model).split('(')[0],'f1'] = np.mean(f1)\n",
        "    target_names = ['Seg-0', 'Seg-1', 'Seg-2']\n",
        "    for r in classification_report(target_valid, prediction, target_names=target_names).split(\"\\n\"):\n",
        "      t = r.split( )\n",
        "    if len(t) == 5 and t[0] == 'Seg-0':\n",
        "      base_res.loc[str(model).split('(')[0],'Seg-0'] = float(t[3])\n",
        "    if len(t) == 5 and t[0] == 'Seg-1':\n",
        "      base_res.loc[str(model).split('(')[0],'Seg-1'] = float(t[3])\n",
        "    if len(t) == 5 and t[0] == 'Seg-2':\n",
        "      base_res.loc[str(model).split('(')[0],'Seg-2'] = float(t[3])    \n",
        "    return base_res, prediction, model"
      ],
      "execution_count": 32,
      "outputs": []
    },
    {
      "cell_type": "code",
      "metadata": {
        "id": "ApeUNKfS-cQL"
      },
      "source": [
        "# Тренировать будем на базе resampled\n",
        "features_train, target_train = features_resampled, target_resampled"
      ],
      "execution_count": 33,
      "outputs": []
    },
    {
      "cell_type": "markdown",
      "metadata": {
        "id": "W0LNao55jlMP"
      },
      "source": [
        "Прикинем несколко моделей"
      ]
    },
    {
      "cell_type": "markdown",
      "metadata": {
        "id": "6zYspNLjW0da"
      },
      "source": [
        "### **RandomForestClassifier**"
      ]
    },
    {
      "cell_type": "code",
      "metadata": {
        "id": "QjWrjsT5jkP1"
      },
      "source": [
        "#Будем подбирать параметры гридсерчем\n",
        "\n",
        "parameters = {'max_depth':[i for i in range(15,26,1)] , 'n_estimators':[i for i in range(50,500,50)], \n",
        "              'max_features':[80,90,95,100], 'random_state':[1234]}\n",
        "\n",
        "clf = GridSearchCV(RandomForestClassifier(), param_grid = parameters, scoring = 'f1_macro')\n",
        "#clf.fit(features_train, target_train)\n",
        "#print(clf.best_params_)"
      ],
      "execution_count": 34,
      "outputs": []
    },
    {
      "cell_type": "code",
      "metadata": {
        "id": "M6goSA0Vj0u2"
      },
      "source": [
        "model_RFC = RandomForestClassifier(max_depth = 20, n_estimators = 450, max_features = 90, random_state = 2)"
      ],
      "execution_count": 35,
      "outputs": []
    },
    {
      "cell_type": "code",
      "metadata": {
        "colab": {
          "base_uri": "https://localhost:8080/"
        },
        "id": "B_XhetOybd3w",
        "outputId": "ba6c640e-7a67-44d1-869f-4def80d7cb8e"
      },
      "source": [
        "info = pd.DataFrame()\n",
        "\n",
        "info, predictions_RFC, model_RFC = put_in_base_test(info, model_RFC, features_train, target_train, features_valid, target_valid)"
      ],
      "execution_count": 36,
      "outputs": [
        {
          "output_type": "stream",
          "text": [
            "              precision    recall  f1-score   support\n",
            "\n",
            "     Seg - 0       0.81      0.73      0.77      3475\n",
            "     Seg - 1       0.36      0.47      0.41      1130\n",
            "     Seg - 2       0.42      0.43      0.42       300\n",
            "\n",
            "    accuracy                           0.65      4905\n",
            "   macro avg       0.53      0.54      0.53      4905\n",
            "weighted avg       0.68      0.65      0.66      4905\n",
            "\n"
          ],
          "name": "stdout"
        }
      ]
    },
    {
      "cell_type": "markdown",
      "metadata": {
        "id": "nDyBfgM6V4-G"
      },
      "source": [
        "#### **LGBMClassifier**\n"
      ]
    },
    {
      "cell_type": "code",
      "metadata": {
        "id": "iT3Zu1xRlavj"
      },
      "source": [
        "#Будем подбирать параметры гридсерчем\n",
        "\n",
        "parameters = {'learning_rate':[0.15,0.1,0.05,0.01,0.005,0.001], 'num_leaves':[i for i in range(4,30,1)],\n",
        "              'random_state': [i for i in range(4,300,10)]}\n",
        "\n",
        "clf = GridSearchCV(LGBMClassifier(n_jobs = -1), param_grid = parameters, scoring = 'f1_macro')\n",
        "\n",
        "#clf.fit(features_resampled, target_resampled)\n",
        "#print(clf.best_params_)"
      ],
      "execution_count": 37,
      "outputs": []
    },
    {
      "cell_type": "code",
      "metadata": {
        "colab": {
          "base_uri": "https://localhost:8080/"
        },
        "id": "ht_tVEhhldoM",
        "outputId": "3d03e69f-9147-481e-d511-7c640eb7a240"
      },
      "source": [
        "model_LGBM = LGBMClassifier(random_state=123, n_jobs = -1, n_estimators = 500, boosting_type = 'gbdt')\n",
        "\n",
        "info, predictions_LGBM, model_LGBM = put_in_base_test(info, model_LGBM, features_train, \n",
        "                                                      target_train, features_valid, target_valid)"
      ],
      "execution_count": 38,
      "outputs": [
        {
          "output_type": "stream",
          "text": [
            "              precision    recall  f1-score   support\n",
            "\n",
            "     Seg - 0       0.82      0.71      0.76      3475\n",
            "     Seg - 1       0.35      0.51      0.41      1130\n",
            "     Seg - 2       0.47      0.35      0.40       300\n",
            "\n",
            "    accuracy                           0.64      4905\n",
            "   macro avg       0.55      0.52      0.53      4905\n",
            "weighted avg       0.69      0.64      0.66      4905\n",
            "\n"
          ],
          "name": "stdout"
        }
      ]
    },
    {
      "cell_type": "markdown",
      "metadata": {
        "id": "Yu8dsn4ZlgNH"
      },
      "source": [
        "#### **AdaBoostClassifier + RandomForestClassifier**\n",
        "\n",
        "*Делаем вложенную модель. RandomForestClassifier в AdaBoostClassifier*"
      ]
    },
    {
      "cell_type": "code",
      "metadata": {
        "id": "6mnDc3UJlgNI"
      },
      "source": [
        "#Будем подбирать параметры гридсерчем\n",
        "\n",
        "grid = {'n_estimators' : [i for i in range(5,25,5)], 'learning_rate': [0.1, 0.2, 0.3, 0.4, 0.6, 0.8, 1.0],\n",
        "       'algorithm' : ['SAMME', 'SAMME.R']}\n",
        "\n",
        "clf = AdaBoostClassifier(DecisionTreeClassifier())\n",
        "rs = GridSearchCV(clf, grid, scoring = 'f1_macro')\n",
        "\n",
        "#rs.fit(features_train, target_train)\n",
        "#AdaBoostRegressor_best_params1 = rs.best_params_"
      ],
      "execution_count": 39,
      "outputs": []
    },
    {
      "cell_type": "code",
      "metadata": {
        "colab": {
          "base_uri": "https://localhost:8080/"
        },
        "id": "PSUkWQ6G6Hb_",
        "outputId": "7fbdb2b7-81a8-405b-9c64-5742c4a4340d"
      },
      "source": [
        "model_Ada = AdaBoostClassifier(RandomForestClassifier(max_depth = 20, n_estimators = 500, max_features = 90, random_state = 2),\n",
        "                               n_estimators=200, learning_rate=0.15, algorithm = 'SAMME.R')\n",
        "\n",
        "info, predictions_Ada, model_Ada = put_in_base_test(info, model_Ada, features_train, target_train, features_valid, target_valid)"
      ],
      "execution_count": 40,
      "outputs": [
        {
          "output_type": "stream",
          "text": [
            "              precision    recall  f1-score   support\n",
            "\n",
            "     Seg - 0       0.81      0.73      0.77      3475\n",
            "     Seg - 1       0.37      0.48      0.42      1130\n",
            "     Seg - 2       0.44      0.44      0.44       300\n",
            "\n",
            "    accuracy                           0.65      4905\n",
            "   macro avg       0.54      0.55      0.54      4905\n",
            "weighted avg       0.69      0.65      0.67      4905\n",
            "\n"
          ],
          "name": "stdout"
        }
      ]
    },
    {
      "cell_type": "code",
      "metadata": {
        "colab": {
          "base_uri": "https://localhost:8080/",
          "height": 142
        },
        "id": "fQcI5HjtpC95",
        "outputId": "a7f876a6-aca1-4850-d52b-64d829f12ed5"
      },
      "source": [
        "display(info.sort_values(by = 'f1', ascending = False))"
      ],
      "execution_count": 41,
      "outputs": [
        {
          "output_type": "display_data",
          "data": {
            "text/html": [
              "<div>\n",
              "<style scoped>\n",
              "    .dataframe tbody tr th:only-of-type {\n",
              "        vertical-align: middle;\n",
              "    }\n",
              "\n",
              "    .dataframe tbody tr th {\n",
              "        vertical-align: top;\n",
              "    }\n",
              "\n",
              "    .dataframe thead th {\n",
              "        text-align: right;\n",
              "    }\n",
              "</style>\n",
              "<table border=\"1\" class=\"dataframe\">\n",
              "  <thead>\n",
              "    <tr style=\"text-align: right;\">\n",
              "      <th></th>\n",
              "      <th>accuracy</th>\n",
              "      <th>precision</th>\n",
              "      <th>recall</th>\n",
              "      <th>f1</th>\n",
              "    </tr>\n",
              "  </thead>\n",
              "  <tbody>\n",
              "    <tr>\n",
              "      <th>AdaBoostClassifier</th>\n",
              "      <td>0.65</td>\n",
              "      <td>0.54</td>\n",
              "      <td>0.55</td>\n",
              "      <td>0.54</td>\n",
              "    </tr>\n",
              "    <tr>\n",
              "      <th>RandomForestClassifier</th>\n",
              "      <td>0.65</td>\n",
              "      <td>0.53</td>\n",
              "      <td>0.54</td>\n",
              "      <td>0.53</td>\n",
              "    </tr>\n",
              "    <tr>\n",
              "      <th>LGBMClassifier</th>\n",
              "      <td>0.64</td>\n",
              "      <td>0.55</td>\n",
              "      <td>0.52</td>\n",
              "      <td>0.53</td>\n",
              "    </tr>\n",
              "  </tbody>\n",
              "</table>\n",
              "</div>"
            ],
            "text/plain": [
              "                         accuracy  precision     recall         f1\n",
              "AdaBoostClassifier           0.65       0.54       0.55       0.54\n",
              "RandomForestClassifier       0.65       0.53       0.54       0.53\n",
              "LGBMClassifier               0.64       0.55       0.52       0.53"
            ]
          },
          "metadata": {
            "tags": []
          }
        }
      ]
    },
    {
      "cell_type": "code",
      "metadata": {
        "colab": {
          "base_uri": "https://localhost:8080/"
        },
        "id": "3yQ3iUFiHRkd",
        "outputId": "a9d75c7a-ca6b-4a7e-f075-35eb5294e580"
      },
      "source": [
        "info['f1'].values"
      ],
      "execution_count": 42,
      "outputs": [
        {
          "output_type": "execute_result",
          "data": {
            "text/plain": [
              "array([0.53173184, 0.52521419, 0.54057204])"
            ]
          },
          "metadata": {
            "tags": []
          },
          "execution_count": 42
        }
      ]
    },
    {
      "cell_type": "markdown",
      "metadata": {
        "id": "kIh4nb7rlgNJ"
      },
      "source": [
        "**AdaBoostClassifier + DecisionTreeClassifier()** чуть чуть лучше\n",
        "\n",
        "\n"
      ]
    },
    {
      "cell_type": "markdown",
      "metadata": {
        "id": "Me5kJHdpQ91a"
      },
      "source": [
        "Сможем ли уменьшить количество параметров?"
      ]
    },
    {
      "cell_type": "code",
      "metadata": {
        "colab": {
          "base_uri": "https://localhost:8080/",
          "height": 111
        },
        "id": "ZEw_Av0CQyoV",
        "outputId": "e20b3314-9c42-4768-e3eb-b28d0018d41d"
      },
      "source": [
        "# Сможем ли уменьшить количество параметров?\n",
        "feature_importances_info = pd.DataFrame()\n",
        "feature_importances_info['columns'] = features_test.columns\n",
        "feature_importances_info['importances'] = model_Ada.feature_importances_\n",
        "feature_importances_info.query(\"importances == 0\")"
      ],
      "execution_count": 43,
      "outputs": [
        {
          "output_type": "execute_result",
          "data": {
            "text/html": [
              "<div>\n",
              "<style scoped>\n",
              "    .dataframe tbody tr th:only-of-type {\n",
              "        vertical-align: middle;\n",
              "    }\n",
              "\n",
              "    .dataframe tbody tr th {\n",
              "        vertical-align: top;\n",
              "    }\n",
              "\n",
              "    .dataframe thead th {\n",
              "        text-align: right;\n",
              "    }\n",
              "</style>\n",
              "<table border=\"1\" class=\"dataframe\">\n",
              "  <thead>\n",
              "    <tr style=\"text-align: right;\">\n",
              "      <th></th>\n",
              "      <th>columns</th>\n",
              "      <th>importances</th>\n",
              "    </tr>\n",
              "  </thead>\n",
              "  <tbody>\n",
              "    <tr>\n",
              "      <th>4</th>\n",
              "      <td>FEATURE_5</td>\n",
              "      <td>0.00</td>\n",
              "    </tr>\n",
              "    <tr>\n",
              "      <th>246</th>\n",
              "      <td>FEATURE_249</td>\n",
              "      <td>0.00</td>\n",
              "    </tr>\n",
              "  </tbody>\n",
              "</table>\n",
              "</div>"
            ],
            "text/plain": [
              "         columns  importances\n",
              "4      FEATURE_5         0.00\n",
              "246  FEATURE_249         0.00"
            ]
          },
          "metadata": {
            "tags": []
          },
          "execution_count": 43
        }
      ]
    },
    {
      "cell_type": "markdown",
      "metadata": {
        "id": "rwnJ5CQSCI1b"
      },
      "source": [
        "2 признаки можно исключить без потери качества. "
      ]
    },
    {
      "cell_type": "code",
      "metadata": {
        "id": "Axr8qkDwGVgP"
      },
      "source": [
        "features_test = features_test.drop(['FEATURE_5','FEATURE_249'], axis=1)\n",
        "features = features.drop(['FEATURE_5','FEATURE_249'], axis=1)"
      ],
      "execution_count": 44,
      "outputs": []
    },
    {
      "cell_type": "markdown",
      "metadata": {
        "id": "-OyPbUcHRsjN"
      },
      "source": [
        "\n",
        "\n",
        "##Финализируем модель\n",
        "\n",
        "\n"
      ]
    },
    {
      "cell_type": "code",
      "metadata": {
        "id": "7eEe-Xd4lgNJ"
      },
      "source": [
        "final_model = model_Ada\n",
        "prediction = predictions_Ada\n",
        "\n",
        "info_test = info[info.index == 'AdaBoostClassifier']"
      ],
      "execution_count": 45,
      "outputs": []
    },
    {
      "cell_type": "markdown",
      "metadata": {
        "id": "fA__ccyZjt01"
      },
      "source": [
        "#### Проверим ее"
      ]
    },
    {
      "cell_type": "code",
      "metadata": {
        "colab": {
          "base_uri": "https://localhost:8080/"
        },
        "id": "Y1ZKzbT5x6r5",
        "outputId": "c56c8cbf-88a6-4669-c7ae-84dbbeb9fe7d"
      },
      "source": [
        "#Сравним дамми\n",
        "dummy_model = DummyClassifier(strategy='stratified')\n",
        "\n",
        "\n",
        "info_test, predictions_dummy, dummy_model = put_in_base_test(info_test, dummy_model, features_train, \n",
        "                                                             target_train, features_valid, target_valid)\n"
      ],
      "execution_count": 46,
      "outputs": [
        {
          "output_type": "stream",
          "text": [
            "              precision    recall  f1-score   support\n",
            "\n",
            "     Seg - 0       0.69      0.43      0.53      3475\n",
            "     Seg - 1       0.22      0.33      0.27      1130\n",
            "     Seg - 2       0.06      0.21      0.09       300\n",
            "\n",
            "    accuracy                           0.39      4905\n",
            "   macro avg       0.32      0.32      0.30      4905\n",
            "weighted avg       0.55      0.39      0.44      4905\n",
            "\n"
          ],
          "name": "stdout"
        }
      ]
    },
    {
      "cell_type": "code",
      "metadata": {
        "colab": {
          "base_uri": "https://localhost:8080/",
          "height": 111
        },
        "id": "KsaO5PQ4lAmS",
        "outputId": "f498c040-8512-4562-ae1d-99947a2382cf"
      },
      "source": [
        "display(info_test.sort_values(by = 'f1', ascending = False))"
      ],
      "execution_count": 47,
      "outputs": [
        {
          "output_type": "display_data",
          "data": {
            "text/html": [
              "<div>\n",
              "<style scoped>\n",
              "    .dataframe tbody tr th:only-of-type {\n",
              "        vertical-align: middle;\n",
              "    }\n",
              "\n",
              "    .dataframe tbody tr th {\n",
              "        vertical-align: top;\n",
              "    }\n",
              "\n",
              "    .dataframe thead th {\n",
              "        text-align: right;\n",
              "    }\n",
              "</style>\n",
              "<table border=\"1\" class=\"dataframe\">\n",
              "  <thead>\n",
              "    <tr style=\"text-align: right;\">\n",
              "      <th></th>\n",
              "      <th>accuracy</th>\n",
              "      <th>precision</th>\n",
              "      <th>recall</th>\n",
              "      <th>f1</th>\n",
              "    </tr>\n",
              "  </thead>\n",
              "  <tbody>\n",
              "    <tr>\n",
              "      <th>AdaBoostClassifier</th>\n",
              "      <td>0.65</td>\n",
              "      <td>0.54</td>\n",
              "      <td>0.55</td>\n",
              "      <td>0.54</td>\n",
              "    </tr>\n",
              "    <tr>\n",
              "      <th>DummyClassifier</th>\n",
              "      <td>0.39</td>\n",
              "      <td>0.32</td>\n",
              "      <td>0.32</td>\n",
              "      <td>0.30</td>\n",
              "    </tr>\n",
              "  </tbody>\n",
              "</table>\n",
              "</div>"
            ],
            "text/plain": [
              "                     accuracy  precision     recall         f1\n",
              "AdaBoostClassifier       0.65       0.54       0.55       0.54\n",
              "DummyClassifier          0.39       0.32       0.32       0.30"
            ]
          },
          "metadata": {
            "tags": []
          }
        }
      ]
    },
    {
      "cell_type": "markdown",
      "metadata": {
        "id": "ti_9EDWHsVYr"
      },
      "source": [
        "AdaBoostClassifier значительно лучше дамми"
      ]
    },
    {
      "cell_type": "code",
      "metadata": {
        "id": "Q5NLJgLAyHyI"
      },
      "source": [
        "#**Зависимость от объема выборки**\n",
        "\n",
        "#делаем базу. добавляем по 10 кейсов увеличивая семпл\n",
        "base_min = pd.DataFrame()\n",
        "for i in range(30,1000,10):\n",
        "    base_min.loc[i,'mean_absolute_error'] = f1_score(target_valid[0:i], final_model.predict(features_valid[0:i]), average='macro')"
      ],
      "execution_count": 48,
      "outputs": []
    },
    {
      "cell_type": "code",
      "metadata": {
        "colab": {
          "base_uri": "https://localhost:8080/",
          "height": 376
        },
        "id": "zf_IQTDOtad7",
        "outputId": "b01f3de5-d076-402f-a1fb-fbac245fa1e5"
      },
      "source": [
        "#строим график\n",
        "sns.set(style=\"whitegrid\")\n",
        "plt.figure(figsize = (10,5)) \n",
        "sns.lineplot(data=base_min, palette=\"tab20\", linewidth=2.5)\n",
        "plt.title(\"F1 модели с различной выборкой \\n\", fontsize=15)\n",
        "plt.ylabel(\"f1_score %%\")\n",
        "plt.xlabel(\"sample size\")\n",
        "plt.show()"
      ],
      "execution_count": 49,
      "outputs": [
        {
          "output_type": "display_data",
          "data": {
            "image/png": "[encoded data removed]",
            "text/plain": [
              "<Figure size 720x360 with 1 Axes>"
            ]
          },
          "metadata": {
            "tags": []
          }
        }
      ]
    },
    {
      "cell_type": "markdown",
      "metadata": {
        "id": "AoHtK0eet6Wr"
      },
      "source": [
        "Может ведет себя не очень стабильно при небольшой выборке и далее разброс меньше, но остается достаточно сильный. Это что может быть связанно с несбалансированностью классов на валидационной выборке."
      ]
    },
    {
      "cell_type": "markdown",
      "metadata": {
        "id": "gDQn-NOJH7J7"
      },
      "source": [
        "Переобучим модель на всей выборке (ресемплированной)"
      ]
    },
    {
      "cell_type": "code",
      "metadata": {
        "colab": {
          "base_uri": "https://localhost:8080/"
        },
        "id": "3pEWJt0FHvLw",
        "outputId": "7e398fb9-70f1-43bb-8a07-8975b5c3cdf0"
      },
      "source": [
        "# возьмем\n",
        "features_resampled, target_resampled = resample(features, target, 0.39, 2.3)\n",
        "features_resampled, target_resampled = np.array(features_resampled), target_resampled\n",
        "\n",
        "final_model.fit(features_resampled, target_resampled)"
      ],
      "execution_count": 50,
      "outputs": [
        {
          "output_type": "execute_result",
          "data": {
            "text/plain": [
              "AdaBoostClassifier(algorithm='SAMME.R',\n",
              "                   base_estimator=RandomForestClassifier(bootstrap=True,\n",
              "                                                         ccp_alpha=0.0,\n",
              "                                                         class_weight=None,\n",
              "                                                         criterion='gini',\n",
              "                                                         max_depth=20,\n",
              "                                                         max_features=90,\n",
              "                                                         max_leaf_nodes=None,\n",
              "                                                         max_samples=None,\n",
              "                                                         min_impurity_decrease=0.0,\n",
              "                                                         min_impurity_split=None,\n",
              "                                                         min_samples_leaf=1,\n",
              "                                                         min_samples_split=2,\n",
              "                                                         min_weight_fraction_leaf=0.0,\n",
              "                                                         n_estimators=500,\n",
              "                                                         n_jobs=None,\n",
              "                                                         oob_score=False,\n",
              "                                                         random_state=2,\n",
              "                                                         verbose=0,\n",
              "                                                         warm_start=False),\n",
              "                   learning_rate=0.15, n_estimators=200, random_state=None)"
            ]
          },
          "metadata": {
            "tags": []
          },
          "execution_count": 50
        }
      ]
    },
    {
      "cell_type": "markdown",
      "metadata": {
        "id": "Dzg16j9YlgNJ"
      },
      "source": [
        "#### Экспортируем предсказания на тестовой выборке"
      ]
    },
    {
      "cell_type": "code",
      "metadata": {
        "colab": {
          "base_uri": "https://localhost:8080/"
        },
        "id": "6Mu5o_V0lgNJ",
        "outputId": "a3667b5d-c208-45cb-973e-9fbb8c40fd81"
      },
      "source": [
        "output = pd.DataFrame({'ID': contest_test.index, \n",
        "                       'Predicted': pd.Series(final_model.predict(features_test), dtype='int32')})\n",
        "\n",
        "output.to_csv('sub_kiseleva.csv', index=False)\n",
        "print(\"Your submission was successfully saved!\")"
      ],
      "execution_count": 51,
      "outputs": [
        {
          "output_type": "stream",
          "text": [
            "Your submission was successfully saved!\n"
          ],
          "name": "stdout"
        }
      ]
    },
    {
      "cell_type": "markdown",
      "metadata": {
        "id": "-JH_uXXrlgNK"
      },
      "source": [
        "<font size=\"6\"><b>Вывод</b></font>.<br/>\n",
        "\n",
        "* Удалила признаки с одним значением и с незаполненностью более 95% .\n",
        "* Пустоты в столбцах заполнила c помощью KNNImputer - 4 .\n",
        "* При обучении модели потребовалась ручная ребалансировка классов - \n",
        "  * Количество кейсов нулевого 0 класса умножила на  0.39\n",
        "  * А кейсы 2 класса размножила в 2.2.\n",
        "* Наилучшие показатели у модели на основе AdaBoostClassifier(RandomForestClassifier(max_depth = 19, n_estimators = 500, random_state = 1234), n_estimators=100,  learning_rate=0.2)"
      ]
    }
  ]
}